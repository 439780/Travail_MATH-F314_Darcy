{
 "cells": [
  {
   "cell_type": "code",
   "execution_count": 1,
   "metadata": {},
   "outputs": [
    {
     "name": "stdout",
     "output_type": "stream",
     "text": [
      "Alberto Bermejo,  000444772\n",
      "Álvaro Tristante, 000439780\n",
      "MATH-F314\n",
      "Devoir 2. Advection-diffusion en milieu poreux.\n"
     ]
    }
   ],
   "source": [
    "print('Alberto Bermejo,  000444772')\n",
    "print('Álvaro Tristante, 000439780')\n",
    "print('MATH-F314')\n",
    "print('Devoir 2. Advection-diffusion en milieu poreux.')"
   ]
  },
  {
   "cell_type": "code",
   "execution_count": 2,
   "metadata": {},
   "outputs": [],
   "source": [
    "import numpy\n",
    "import sympy\n",
    "from matplotlib import pyplot"
   ]
  },
  {
   "cell_type": "code",
   "execution_count": 3,
   "metadata": {},
   "outputs": [],
   "source": [
    "pyplot.rcParams['font.family'] = 'serif'\n",
    "pyplot.rcParams['font.size'] = 16\n",
    "sympy.init_printing()"
   ]
  },
  {
   "cell_type": "code",
   "execution_count": 4,
   "metadata": {},
   "outputs": [
    {
     "name": "stdout",
     "output_type": "stream",
     "text": [
      "QUESTION 1\n"
     ]
    }
   ],
   "source": [
    "print('QUESTION 1')"
   ]
  },
  {
   "cell_type": "code",
   "execution_count": 5,
   "metadata": {},
   "outputs": [],
   "source": [
    "#Définition des nouvaux symboles\n",
    "z_1, Ra_1, t_1, xi_1, f = sympy.symbols('z Ra t xi f ')\n",
    "w1, c1, delta_1, i_1, alpha = sympy.symbols('w´ c´ ∆ i alpha')\n",
    "w_1, c_1, c0, k_1, x_1, n_1 = sympy.symbols('w c c0 k x n')"
   ]
  },
  {
   "cell_type": "code",
   "execution_count": 6,
   "metadata": {},
   "outputs": [],
   "source": [
    "#Définition des nouvaux variables\n",
    "xi_2 = (z_1 * (sympy.sqrt(Ra_1 /(4 * t_1))))\n",
    "xiprime_1 = xi_2.diff(z_1)\n",
    "xiprime_2 = xiprime_1 ** 2\n",
    "xiprime = sympy.Derivative(f, xi_1) * xiprime_1\n",
    "xidoubleprime = sympy.Derivative(f, xi_1, xi_1) * xiprime_1 **2"
   ]
  },
  {
   "cell_type": "code",
   "execution_count": 7,
   "metadata": {},
   "outputs": [],
   "source": [
    "#Définition des nouvaux variables\n",
    "xidoubleprime_w = sympy.Derivative(w_1, xi_1, xi_1) * xiprime_1 **2\n",
    "xidoubleprime_w1 = sympy.Derivative(w1, xi_1, xi_1) * xiprime_1 **2\n",
    "xidoubleprime_c = sympy.Derivative(c_1, xi_1, xi_1) * xiprime_1 **2\n",
    "xidoubleprime_c1 = sympy.Derivative(c1, xi_1, xi_1) * xiprime_1 **2\n",
    "cprime1 = sympy.Derivative(c_1 , t_1)\n",
    "cprime2 = sympy.Derivative(c_1 - c0, t_1)\n",
    "cprime3 = sympy.Derivative(c1 , t_1)"
   ]
  },
  {
   "cell_type": "code",
   "execution_count": 8,
   "metadata": {},
   "outputs": [],
   "source": [
    "#Définition des équations à gauche \n",
    "eq1 = (xidoubleprime_w - w_1 * k_1 ** 2 ) * sympy.exp(- i_1 * k_1 * x_1)\n",
    "eq1_1 = (xidoubleprime_w1 - w1 * k_1 ** 2 )\n",
    "eq1b = (xidoubleprime_w - w_1 * k_1 ** 2 ) "
   ]
  },
  {
   "cell_type": "code",
   "execution_count": 9,
   "metadata": {},
   "outputs": [],
   "source": [
    "#Définition des équations au milieu\n",
    "eq2 = - k_1 ** 2 * (c_1 -c0) * sympy.exp(- i_1 * k_1 * x_1) * cprime2 - ((1 / (4 * t_1)) * sympy.Derivative((c_1 - c0), xi_1, xi_1) - (k_1 ** 2 / Ra_1) * (c_1 - c0)) * sympy.exp(- i_1 * k_1 * x_1)\n",
    "eq2_1 = - k_1 ** 2 * c1 * cprime3 - ((1 / (4 * t_1)) * sympy.Derivative(c1, xi_1, xi_1) - (k_1 ** 2 / Ra_1) * c1)\n",
    "eq2a = - k_1 ** 2 * (c_1 -c0) * cprime2 - ((1 / (4 * t_1)) * sympy.Derivative((c_1 - c0), xi_1, xi_1) - (k_1 ** 2 / Ra_1) * (c_1 - c0))\n",
    "eq2b = - k_1 ** 2 * c_1 * cprime1 - (1 / t_1) * ((1 / 4) * sympy.Derivative(c_1, xi_1, xi_1) + (xi_1 / 2) * sympy.Derivative(c_1, xi_1) - k_1 ** 2 * t_1 * c_1 / Ra_1 )"
   ]
  },
  {
   "cell_type": "code",
   "execution_count": 10,
   "metadata": {},
   "outputs": [],
   "source": [
    "#Définition des équations à droite\n",
    "eq3 = - sympy.sqrt( Ra_1 / sympy.pi / t_1) * sympy.exp(- xi_1 ** 2) * w_1 * sympy.exp(- i_1 * k_1 * x_1)\n",
    "eq3_1 = - sympy.sqrt( Ra_1 / sympy.pi / t_1) * sympy.exp(- xi_1 ** 2) * w1\n",
    "eq3b = - sympy.sqrt( Ra_1 / sympy.pi / t_1) * sympy.exp(- xi_1 ** 2) * w_1 "
   ]
  },
  {
   "cell_type": "code",
   "execution_count": 254,
   "metadata": {},
   "outputs": [
    {
     "data": {
      "image/png": "[encoded data removed]",
      "text/latex": [
       "$$\\frac{Ra \\frac{d^{2}}{d \\xi^{2}}  w´}{4 t} - k^{2} w´ = - c´ k^{2} \\frac{d}{d t} c´ - \\frac{\\frac{d^{2}}{d \\xi^{2}}  c´}{4 t} + \\frac{c´ k^{2}}{Ra} = - \\frac{w´ \\sqrt{\\frac{Ra}{t}}}{\\sqrt{\\pi}} e^{- \\xi^{2}}$$"
      ],
      "text/plain": [
       "     2                                  2                                 \n",
       "    d                                  d                        ____    2 \n",
       "Ra⋅───(w´)                            ───(c´)                  ╱ Ra   -ξ  \n",
       "     2                                  2           2   -w´⋅  ╱  ── ⋅ℯ    \n",
       "   dξ         2            2 d        dξ        c´⋅k        ╲╱   t        \n",
       "────────── - k ⋅w´ = - c´⋅k ⋅──(c´) - ─────── + ───── = ──────────────────\n",
       "   4⋅t                       dt         4⋅t       Ra            √π        "
      ]
     },
     "execution_count": 254,
     "metadata": {},
     "output_type": "execute_result"
    }
   ],
   "source": [
    "eqtot1 = sympy.Eq(sympy.Eq(eq1_1,eq2_1),eq3_1)\n",
    "eqtot1"
   ]
  },
  {
   "cell_type": "code",
   "execution_count": 255,
   "metadata": {},
   "outputs": [
    {
     "data": {
      "image/png": "[encoded data removed]",
      "text/latex": [
       "$$\\left(\\frac{Ra \\frac{d^{2}}{d \\xi^{2}}  w}{4 t} - k^{2} w\\right) e^{- i k x} = - k^{2} \\left(c - c_{0}\\right) e^{- i k x} \\frac{\\partial}{\\partial t}\\left(c - c_{0}\\right) - \\left(\\frac{1}{4 t} \\frac{\\partial^{2}}{\\partial \\xi^{2}} \\left(c - c_{0}\\right) - \\frac{k^{2}}{Ra} \\left(c - c_{0}\\right)\\right) e^{- i k x} = - \\frac{w \\sqrt{\\frac{Ra}{t}}}{\\sqrt{\\pi}} e^{- \\xi^{2}} e^{- i k x}$$"
      ],
      "text/plain": [
       "⎛     2          ⎞                                              ⎛  2          \n",
       "⎜    d           ⎟                                              ⎜ ∂           \n",
       "⎜Ra⋅───(w)       ⎟                                              ⎜───(c - c₀)  \n",
       "⎜     2          ⎟                                              ⎜  2          \n",
       "⎜   dξ        2  ⎟  -i⋅k⋅x      2           -i⋅k⋅x ∂            ⎜∂ξ           \n",
       "⎜───────── - k ⋅w⎟⋅ℯ       = - k ⋅(c - c₀)⋅ℯ      ⋅──(c - c₀) - ⎜─────────── -\n",
       "⎝   4⋅t          ⎠                                 ∂t           ⎝    4⋅t      \n",
       "\n",
       "            ⎞                                    \n",
       "            ⎟                  ____    2         \n",
       "            ⎟                 ╱ Ra   -ξ   -i⋅k⋅x \n",
       "  2         ⎟           -w⋅  ╱  ── ⋅ℯ   ⋅ℯ       \n",
       " k ⋅(c - c₀)⎟  -i⋅k⋅x      ╲╱   t                \n",
       " ───────────⎟⋅ℯ       = ─────────────────────────\n",
       "      Ra    ⎠                       √π           "
      ]
     },
     "execution_count": 255,
     "metadata": {},
     "output_type": "execute_result"
    }
   ],
   "source": [
    "eqtot2 = sympy.Eq(sympy.Eq(eq1,eq2),eq3)\n",
    "eqtot2"
   ]
  },
  {
   "cell_type": "code",
   "execution_count": 256,
   "metadata": {},
   "outputs": [
    {
     "data": {
      "image/png": "[encoded data removed]",
      "text/latex": [
       "$$\\frac{Ra \\frac{d^{2}}{d \\xi^{2}}  w}{4 t} - k^{2} w = - c k^{2} \\frac{d}{d t} c - \\frac{1}{t} \\left(\\frac{\\xi}{2} \\frac{d}{d \\xi} c + 0.25 \\frac{d^{2}}{d \\xi^{2}}  c - \\frac{c t}{Ra} k^{2}\\right) = - \\frac{w \\sqrt{\\frac{Ra}{t}}}{\\sqrt{\\pi}} e^{- \\xi^{2}}$$"
      ],
      "text/plain": [
       "                                    d                                         \n",
       "     2                            ξ⋅──(c)          2         2                \n",
       "    d                               dξ            d       c⋅k ⋅t          ____\n",
       "Ra⋅───(w)                         ─────── + 0.25⋅───(c) - ──────         ╱ Ra \n",
       "     2                               2             2        Ra     -w⋅  ╱  ── \n",
       "   dξ        2          2 d                      dξ                   ╲╱   t  \n",
       "───────── - k ⋅w = - c⋅k ⋅──(c) - ────────────────────────────── = ───────────\n",
       "   4⋅t                    dt                    t                          √π \n",
       "\n",
       "      \n",
       "      \n",
       "    2 \n",
       "  -ξ  \n",
       "⋅ℯ    \n",
       "      \n",
       "──────\n",
       "      "
      ]
     },
     "execution_count": 256,
     "metadata": {},
     "output_type": "execute_result"
    }
   ],
   "source": [
    "eqtot = sympy.Eq(sympy.Eq(eq1b, eq2b), eq3b)\n",
    "eqtot"
   ]
  },
  {
   "cell_type": "code",
   "execution_count": 257,
   "metadata": {},
   "outputs": [
    {
     "name": "stdout",
     "output_type": "stream",
     "text": [
      "QUESTION 2\n"
     ]
    }
   ],
   "source": [
    "print('QUESTION 2')"
   ]
  },
  {
   "cell_type": "code",
   "execution_count": 13,
   "metadata": {},
   "outputs": [],
   "source": [
    "#Définition des constants\n",
    "L = 5\n",
    "N = 101\n",
    "delta = L / (N - 1)\n",
    "t_0 = 0.00001\n",
    "T = 0.0001\n",
    "dt = 10 **(-8)\n",
    "Ra = 500\n",
    "k = 0.1\n",
    "t = numpy.linspace(0.0, T, num=N)  # grille du temps"
   ]
  },
  {
   "cell_type": "code",
   "execution_count": 27,
   "metadata": {},
   "outputs": [],
   "source": [
    "#Définition d'une fonction qui fait la somme des matrices et multiplication par une variable pour obtenir l'opérateur L à partir des différences finies\n",
    "def L_operator(N, delta, Ra, k, t):\n",
    "    M = numpy.diag((-2.0) * numpy.ones(N))\n",
    "    U = numpy.diag(1.0 * numpy.ones(N - 1), k = 1)\n",
    "    L = numpy.diag(1.0 * numpy.ones(N - 1), k = -1)\n",
    "    A = M + U + L\n",
    "    B = numpy.array(A)* Ra * 0.25 / (t * delta**2)\n",
    "    K = -(k ** 2) * numpy.array(numpy.identity(N))\n",
    "    C = B +  K\n",
    "    return C"
   ]
  },
  {
   "cell_type": "code",
   "execution_count": 15,
   "metadata": {},
   "outputs": [
    {
     "data": {
      "text/plain": [
       "array([[-0.5*Ra/(t*∆**2) - 1.0*k**2, 0.25*Ra/(t*∆**2), 0, ..., 0, 0, 0],\n",
       "       [0.25*Ra/(t*∆**2), -0.5*Ra/(t*∆**2) - 1.0*k**2, 0.25*Ra/(t*∆**2),\n",
       "        ..., 0, 0, 0],\n",
       "       [0, 0.25*Ra/(t*∆**2), -0.5*Ra/(t*∆**2) - 1.0*k**2, ..., 0, 0, 0],\n",
       "       ...,\n",
       "       [0, 0, 0, ..., -0.5*Ra/(t*∆**2) - 1.0*k**2, 0.25*Ra/(t*∆**2), 0],\n",
       "       [0, 0, 0, ..., 0.25*Ra/(t*∆**2), -0.5*Ra/(t*∆**2) - 1.0*k**2,\n",
       "        0.25*Ra/(t*∆**2)],\n",
       "       [0, 0, 0, ..., 0, 0.25*Ra/(t*∆**2), -0.5*Ra/(t*∆**2) - 1.0*k**2]],\n",
       "      dtype=object)"
      ]
     },
     "execution_count": 15,
     "metadata": {},
     "output_type": "execute_result"
    }
   ],
   "source": [
    "L_operator(100, delta_1, Ra_1, k_1, t_1)"
   ]
  },
  {
   "cell_type": "code",
   "execution_count": 25,
   "metadata": {},
   "outputs": [],
   "source": [
    "#Définition de l'opérateur H1 qui va servir à construire l'opérateur M et H\n",
    "def H1_operator(N,delta):\n",
    "    M = numpy.diag((-2.0) * numpy.ones(N))\n",
    "    U = numpy.diag(1.0 * numpy.ones(N - 1), k = 1)\n",
    "    L = numpy.diag(1.0 * numpy.ones(N - 1), k = -1)\n",
    "    A = M + U + L\n",
    "    B = numpy.array(A) * 0.25 / (delta**2)\n",
    "    return B"
   ]
  },
  {
   "cell_type": "code",
   "execution_count": 26,
   "metadata": {},
   "outputs": [
    {
     "data": {
      "text/plain": [
       "array([[-200.,  100.,    0., ...,    0.,    0.,    0.],\n",
       "       [ 100., -200.,  100., ...,    0.,    0.,    0.],\n",
       "       [   0.,  100., -200., ...,    0.,    0.,    0.],\n",
       "       ...,\n",
       "       [   0.,    0.,    0., ..., -200.,  100.,    0.],\n",
       "       [   0.,    0.,    0., ...,  100., -200.,  100.],\n",
       "       [   0.,    0.,    0., ...,    0.,  100., -200.]])"
      ]
     },
     "execution_count": 26,
     "metadata": {},
     "output_type": "execute_result"
    }
   ],
   "source": [
    "H1_operator(100, 0.05)"
   ]
  },
  {
   "cell_type": "code",
   "execution_count": 23,
   "metadata": {},
   "outputs": [],
   "source": [
    "#Définition de l'opérateur H2 qui va servir à construire l'opérateur M et H\n",
    "def H2_operator(N, delta):\n",
    "    U = numpy.diag(1.0 * numpy.ones(N - 1), k = 1)\n",
    "    L = numpy.diag(-1.0 * numpy.ones(N - 1), k = -1)\n",
    "    A = U + L\n",
    "    for m in range (N-1):\n",
    "        A[m] = A[m] * ( 0.25 * (m+1) )\n",
    "    return A"
   ]
  },
  {
   "cell_type": "code",
   "execution_count": 24,
   "metadata": {},
   "outputs": [
    {
     "data": {
      "text/plain": [
       "array([[  0.  ,   0.25,   0.  , ...,   0.  ,   0.  ,   0.  ],\n",
       "       [ -0.5 ,   0.  ,   0.5 , ...,   0.  ,   0.  ,   0.  ],\n",
       "       [  0.  ,  -0.75,   0.  , ...,   0.  ,   0.  ,   0.  ],\n",
       "       ...,\n",
       "       [  0.  ,   0.  ,   0.  , ...,   0.  ,  24.5 ,   0.  ],\n",
       "       [  0.  ,   0.  ,   0.  , ..., -24.75,   0.  ,  24.75],\n",
       "       [  0.  ,   0.  ,   0.  , ...,   0.  ,  -1.  ,   0.  ]])"
      ]
     },
     "execution_count": 24,
     "metadata": {},
     "output_type": "execute_result"
    }
   ],
   "source": [
    "H2_operator(100, 0.05)"
   ]
  },
  {
   "cell_type": "code",
   "execution_count": 21,
   "metadata": {},
   "outputs": [],
   "source": [
    "#Définition de l'opérateur M à partir des opérateur H1 et H2\n",
    "def M_operator(N, delta, Ra, k, t):\n",
    "    A = H1_operator(N, delta) + H2_operator(N, delta)\n",
    "    K = -(((k_1 ** 2)* t_1)/ Ra_1) * numpy.array(numpy.identity(N))\n",
    "    B = A + K\n",
    "    C = (1 / t_1) * numpy.array(B)\n",
    "    return C"
   ]
  },
  {
   "cell_type": "code",
   "execution_count": 22,
   "metadata": {},
   "outputs": [
    {
     "ename": "NameError",
     "evalue": "name 'H2_operator' is not defined",
     "output_type": "error",
     "traceback": [
      "\u001b[0;31m---------------------------------------------------------------------------\u001b[0m",
      "\u001b[0;31mNameError\u001b[0m                                 Traceback (most recent call last)",
      "\u001b[0;32m<ipython-input-22-64a31750d84d>\u001b[0m in \u001b[0;36m<module>\u001b[0;34m\u001b[0m\n\u001b[0;32m----> 1\u001b[0;31m \u001b[0mM_operator\u001b[0m\u001b[0;34m(\u001b[0m\u001b[0;36m100\u001b[0m\u001b[0;34m,\u001b[0m \u001b[0mdelta_1\u001b[0m\u001b[0;34m,\u001b[0m \u001b[0mRa_1\u001b[0m\u001b[0;34m,\u001b[0m \u001b[0mk_1\u001b[0m\u001b[0;34m,\u001b[0m \u001b[0mt_1\u001b[0m \u001b[0;34m)\u001b[0m\u001b[0;34m\u001b[0m\u001b[0;34m\u001b[0m\u001b[0m\n\u001b[0m",
      "\u001b[0;32m<ipython-input-21-fed3d01bf52b>\u001b[0m in \u001b[0;36mM_operator\u001b[0;34m(N, delta, Ra, k, t)\u001b[0m\n\u001b[1;32m      1\u001b[0m \u001b[0;31m#Définition de l'opérateur M à partir des opérateur H1 et H2\u001b[0m\u001b[0;34m\u001b[0m\u001b[0;34m\u001b[0m\u001b[0;34m\u001b[0m\u001b[0m\n\u001b[1;32m      2\u001b[0m \u001b[0;32mdef\u001b[0m \u001b[0mM_operator\u001b[0m\u001b[0;34m(\u001b[0m\u001b[0mN\u001b[0m\u001b[0;34m,\u001b[0m \u001b[0mdelta\u001b[0m\u001b[0;34m,\u001b[0m \u001b[0mRa\u001b[0m\u001b[0;34m,\u001b[0m \u001b[0mk\u001b[0m\u001b[0;34m,\u001b[0m \u001b[0mt\u001b[0m\u001b[0;34m)\u001b[0m\u001b[0;34m:\u001b[0m\u001b[0;34m\u001b[0m\u001b[0;34m\u001b[0m\u001b[0m\n\u001b[0;32m----> 3\u001b[0;31m     \u001b[0mA\u001b[0m \u001b[0;34m=\u001b[0m \u001b[0mH1_operator\u001b[0m\u001b[0;34m(\u001b[0m\u001b[0mN\u001b[0m\u001b[0;34m,\u001b[0m \u001b[0mdelta\u001b[0m\u001b[0;34m)\u001b[0m \u001b[0;34m+\u001b[0m \u001b[0mH2_operator\u001b[0m\u001b[0;34m(\u001b[0m\u001b[0mN\u001b[0m\u001b[0;34m,\u001b[0m \u001b[0mdelta\u001b[0m\u001b[0;34m)\u001b[0m\u001b[0;34m\u001b[0m\u001b[0;34m\u001b[0m\u001b[0m\n\u001b[0m\u001b[1;32m      4\u001b[0m     \u001b[0mK\u001b[0m \u001b[0;34m=\u001b[0m \u001b[0;34m-\u001b[0m\u001b[0;34m(\u001b[0m\u001b[0;34m(\u001b[0m\u001b[0;34m(\u001b[0m\u001b[0mk_1\u001b[0m \u001b[0;34m**\u001b[0m \u001b[0;36m2\u001b[0m\u001b[0;34m)\u001b[0m\u001b[0;34m*\u001b[0m \u001b[0mt_1\u001b[0m\u001b[0;34m)\u001b[0m\u001b[0;34m/\u001b[0m \u001b[0mRa_1\u001b[0m\u001b[0;34m)\u001b[0m \u001b[0;34m*\u001b[0m \u001b[0mnumpy\u001b[0m\u001b[0;34m.\u001b[0m\u001b[0marray\u001b[0m\u001b[0;34m(\u001b[0m\u001b[0mnumpy\u001b[0m\u001b[0;34m.\u001b[0m\u001b[0midentity\u001b[0m\u001b[0;34m(\u001b[0m\u001b[0mN\u001b[0m\u001b[0;34m)\u001b[0m\u001b[0;34m)\u001b[0m\u001b[0;34m\u001b[0m\u001b[0;34m\u001b[0m\u001b[0m\n\u001b[1;32m      5\u001b[0m     \u001b[0mB\u001b[0m \u001b[0;34m=\u001b[0m \u001b[0mA\u001b[0m \u001b[0;34m+\u001b[0m \u001b[0mK\u001b[0m\u001b[0;34m\u001b[0m\u001b[0;34m\u001b[0m\u001b[0m\n",
      "\u001b[0;31mNameError\u001b[0m: name 'H2_operator' is not defined"
     ]
    }
   ],
   "source": [
    "M_operator(100, delta_1, Ra_1, k_1, t_1 )"
   ]
  },
  {
   "cell_type": "code",
   "execution_count": 267,
   "metadata": {},
   "outputs": [
    {
     "name": "stdout",
     "output_type": "stream",
     "text": [
      "QUESTION 3\n"
     ]
    }
   ],
   "source": [
    "print('QUESTION 3')"
   ]
  },
  {
   "cell_type": "code",
   "execution_count": 271,
   "metadata": {},
   "outputs": [],
   "source": [
    "#Solutions à l'équation de Hermite\n",
    "def herm1(x, l):\n",
    "    a = ((-1) ** l) * sympy.exp(x ** 2) * sympy.exp(- x ** 2).diff(x, l)\n",
    "    return a"
   ]
  },
  {
   "cell_type": "code",
   "execution_count": 269,
   "metadata": {},
   "outputs": [],
   "source": [
    "#Définition de la fonction fn\n",
    "def fn(x, n):\n",
    "    b = herm1(x, n) * sympy.exp(- x ** 2)\n",
    "    return b"
   ]
  },
  {
   "cell_type": "code",
   "execution_count": 270,
   "metadata": {},
   "outputs": [],
   "source": [
    "#Partie à gauche de l'équation aux valeurs propre \n",
    "def lh(x,n):\n",
    "    c = 1 / 4 * fn(x, n).diff(x, 2) + 1 / 2 * xi_1 * fn(x, n).diff(x, 1)\n",
    "    d = sympy.simplify(c) \n",
    "    return d"
   ]
  },
  {
   "cell_type": "code",
   "execution_count": 272,
   "metadata": {},
   "outputs": [],
   "source": [
    "#Partie à droite de l'équation aux valeurs propres \n",
    "def rh(x, n):\n",
    "    a = alpha * fn(x,n)\n",
    "    return a   "
   ]
  },
  {
   "cell_type": "code",
   "execution_count": 196,
   "metadata": {},
   "outputs": [],
   "source": [
    "#Fonction qui donne les valeurs de alpha en fonction de n\n",
    "def eqvalidsolver(x, n):\n",
    "    if sympy.limit(fn(x, n), xi_1, 0) == 0 and sympy.limit(fn(x, n), xi_1, numpy.inf) == 0:\n",
    "        equation = rh(x, n) - lh(x, n)\n",
    "        eqsolve = sympy.solve(equation, alpha)\n",
    "        return eqsolve\n",
    "    else:\n",
    "        a = 'Valeur non admissible'\n",
    "        return a"
   ]
  },
  {
   "cell_type": "code",
   "execution_count": 197,
   "metadata": {},
   "outputs": [
    {
     "data": {
      "image/png": "[encoded data removed]",
      "text/latex": [
       "$$\\left [ -5.0\\right ]$$"
      ],
      "text/plain": [
       "[-5.0]"
      ]
     },
     "execution_count": 197,
     "metadata": {},
     "output_type": "execute_result"
    }
   ],
   "source": [
    "alpha_final = eqvalidsolver(x = xi_1, n = 9)\n",
    "alpha_final"
   ]
  },
  {
   "cell_type": "code",
   "execution_count": 238,
   "metadata": {},
   "outputs": [
    {
     "name": "stdout",
     "output_type": "stream",
     "text": [
      "QUESTION 4\n"
     ]
    }
   ],
   "source": [
    "print('QUESTION 4')"
   ]
  },
  {
   "cell_type": "code",
   "execution_count": 273,
   "metadata": {},
   "outputs": [],
   "source": [
    "#Définition de l'opérateur H à partir de H1 et H2\n",
    "def H_operator(N, delta):\n",
    "    A = H1_operator(N, delta) + H2_operator(N, delta)\n",
    "    return A"
   ]
  },
  {
   "cell_type": "code",
   "execution_count": 274,
   "metadata": {},
   "outputs": [
    {
     "data": {
      "text/plain": [
       "array([[-200.  ,  100.25,    0.  , ...,    0.  ,    0.  ,    0.  ],\n",
       "       [  99.5 , -200.  ,  100.5 , ...,    0.  ,    0.  ,    0.  ],\n",
       "       [   0.  ,   99.25, -200.  , ...,    0.  ,    0.  ,    0.  ],\n",
       "       ...,\n",
       "       [   0.  ,    0.  ,    0.  , ..., -200.  ,  124.5 ,    0.  ],\n",
       "       [   0.  ,    0.  ,    0.  , ...,   75.25, -200.  ,  124.75],\n",
       "       [   0.  ,    0.  ,    0.  , ...,    0.  ,   99.  , -200.  ]])"
      ]
     },
     "execution_count": 274,
     "metadata": {},
     "output_type": "execute_result"
    }
   ],
   "source": [
    "H_operator(100, 0.05)"
   ]
  },
  {
   "cell_type": "code",
   "execution_count": 275,
   "metadata": {},
   "outputs": [
    {
     "data": {
      "text/plain": [
       "array([-399.        , -397.99999981, -396.99998282, -395.99940587,\n",
       "       -394.9910796 , -393.93732411, -392.76299064, -386.20339017,\n",
       "       -391.41109857, -388.12867341, -389.86588814, -384.09362131,\n",
       "       -379.33274978, -381.80246512, -373.86856951, -370.87965543,\n",
       "       -367.72338603, -364.40281775, -357.28174388, -360.92115249,\n",
       "       -353.48809971, -376.68720499, -349.54388189, -345.45290483,\n",
       "       -341.21913265, -336.84667577, -327.70285656, -332.33978687,\n",
       "       -322.94040878, -318.05709597, -313.05769411, -307.94709761,\n",
       "       -302.73031416, -297.41245936, -291.99875143, -286.49450566,\n",
       "         -1.        , -280.905129  , -275.23611436, -269.49303504,\n",
       "       -263.681539  ,   -2.00000019,   -3.00001718, -257.80734308,\n",
       "         -4.00059413,   -5.0089204 , -251.87622721,   -6.06267589,\n",
       "         -7.23700936,   -8.58890143,  -10.13411186, -245.89402853,\n",
       "        -11.87132659, -239.8666355 ,  -13.79660983,  -15.90637869,\n",
       "        -18.19753488, -233.79998194,  -20.66725022,  -26.13143049,\n",
       "       -227.7000411 ,  -29.12034457,  -32.27661397,  -35.59718225,\n",
       "        -39.07884751, -221.57281957,  -42.71825612, -215.42435133,\n",
       "        -46.51190029, -209.26069164, -203.08791099,  -50.45611811,\n",
       "       -196.91208901,  -54.54709517, -190.73930836, -160.1333645 ,\n",
       "       -154.10597147, -148.12377279, -130.50696496, -124.76388564,\n",
       "       -166.20001806, -184.57564867, -136.318461  ,  -58.78086735,\n",
       "       -119.094871  , -142.19265692, -178.42718043, -113.50549434,\n",
       "        -63.15332423, -108.00124857,  -97.26968584,  -77.05959122,\n",
       "        -67.66021313,  -92.05290239, -172.2999589 ,  -72.29714344,\n",
       "        -81.94290403, -102.58754064,  -86.94230589,  -23.31279501])"
      ]
     },
     "execution_count": 275,
     "metadata": {},
     "output_type": "execute_result"
    }
   ],
   "source": [
    "#Valeurs propres de l'opérateur H\n",
    "vp = numpy.linalg.eig(H_operator(100, 0.05))[0]\n",
    "vp"
   ]
  },
  {
   "cell_type": "code",
   "execution_count": 276,
   "metadata": {},
   "outputs": [
    {
     "data": {
      "text/plain": [
       "array([-5.0089204 , -4.00059413, -3.00001718, -2.00000019, -1.        ])"
      ]
     },
     "execution_count": 276,
     "metadata": {},
     "output_type": "execute_result"
    }
   ],
   "source": [
    "#Calcul numérique des 5 plus grandes valeurs propres de l'opérateur\n",
    "n = 5\n",
    "vp[numpy.argsort(vp)[-n:]]"
   ]
  },
  {
   "cell_type": "code",
   "execution_count": 277,
   "metadata": {},
   "outputs": [
    {
     "name": "stdout",
     "output_type": "stream",
     "text": [
      "QUESTION 5\n"
     ]
    }
   ],
   "source": [
    "print('QUESTION 5')"
   ]
  },
  {
   "cell_type": "code",
   "execution_count": 32,
   "metadata": {},
   "outputs": [],
   "source": [
    "# Le \"pas\" de la methode Runge-Kutta qu'on appliquera recursivement\n",
    "def rk4_step(y, f, h, *args):\n",
    "    t = N*h\n",
    "    k1 = f(t, y)\n",
    "    k2 = f(t + h/2, y + h/2 * k1)\n",
    "    k3 = f(t + h/2, y + h/2 * k2)\n",
    "    k4 = f(t + h, y + h * k3)\n",
    "    y += h/6 * (k1 + 2*k2 + 2*k3 + k4)\n",
    "    return y"
   ]
  },
  {
   "cell_type": "code",
   "execution_count": 33,
   "metadata": {},
   "outputs": [
    {
     "data": {
      "text/plain": [
       "array([ 0.32322026,  0.57278405,  0.40414506,  0.31732477,  0.1354822 ,\n",
       "        0.46884117,  0.15638082,  0.8376595 ,  0.94549414,  0.07516228,\n",
       "        0.68758756,  0.29334238,  0.35206684,  0.88839496, -0.39344591,\n",
       "       -0.36930605, -0.4696724 ,  0.74892977,  0.66723513,  0.80501822,\n",
       "        0.96792751,  0.69873785,  0.19221904,  0.67079376, -0.32258836,\n",
       "        0.45988153, -0.28497007,  0.91700338,  0.28277248,  0.12199291,\n",
       "       -0.10316658,  0.66135053,  0.1842255 ,  0.35265092, -0.4718153 ,\n",
       "        0.42645325,  0.41814358,  0.425401  ,  0.91562212,  0.52273045,\n",
       "        0.03926185,  0.15554793,  0.54644679, -0.40966179,  0.50015007,\n",
       "        0.5059568 , -0.18442616, -0.30661055, -0.02685747,  0.04556616,\n",
       "        0.35529516,  0.15790227,  0.98256076, -0.34693278, -0.18668487,\n",
       "       -0.25803572,  0.47966249, -0.1200626 ,  0.19946616, -0.13336161,\n",
       "       -0.26154562, -0.33443729,  0.48449438, -0.29272557, -0.20512646,\n",
       "        0.05308776,  0.73148984, -0.35434809,  0.75691736, -0.35585239,\n",
       "        0.9646892 ,  0.2029768 ,  0.96514163,  0.40726828,  0.60889537,\n",
       "       -0.44121831, -0.07578956, -0.31970516, -0.0557897 , -0.32190842,\n",
       "       -0.02302523,  0.12139449, -0.40377876,  0.53870818,  0.34990218,\n",
       "       -0.10191576,  0.28487208, -0.35908923,  0.36391974,  0.8939443 ,\n",
       "       -0.02214657,  0.50111557, -0.30230321,  0.57449081, -0.06589086,\n",
       "       -0.22521296,  0.3797694 , -0.46983868,  0.74341004])"
      ]
     },
     "execution_count": 33,
     "metadata": {},
     "output_type": "execute_result"
    }
   ],
   "source": [
    "#Les valeurs initiales\n",
    "c_i = numpy.load(\"init_cond_c (1).npy\")\n",
    "c_i"
   ]
  },
  {
   "cell_type": "code",
   "execution_count": 35,
   "metadata": {},
   "outputs": [],
   "source": [
    "#Cette fonction est restée à moitié faite.\n",
    "\n",
    "u_rk4 = numpy.zeros((99, 99))\n",
    "\n",
    "for i in range(99):\n",
    "    u_rk4[0][i] = c_i[i]\n",
    "\n",
    "#L'integration sur le temps. Nous resolvons l'eq. c' = f(xi, t), où f est la combinaison \n",
    "#de l'operateur M et l'inverse de L suivante:\n",
    "def timeint(N):\n",
    "    t = t_0\n",
    "    xi = 0\n",
    "    for n in range(N - 1):\n",
    "        for j in range(N - 1):\n",
    "            rhs = M_operator(99, 10**(-8), 500, 0.1, t)[n][j] - (500/(t*numpy.pi)) * numpy.exp(-xi**2) * numpy.linalg.inv(L_operator(99,10**(-8), 500, 0.1, t))[n][j]\n",
    "            u_rk4[n+1][j] = rk4_step(u_rk4[n][j], rhs, 10**(-8))\n",
    "    return u_rk4\n",
    "    "
   ]
  },
  {
   "cell_type": "code",
   "execution_count": 282,
   "metadata": {},
   "outputs": [
    {
     "name": "stdout",
     "output_type": "stream",
     "text": [
      "(array([ 1,  2,  3,  4,  5,  6,  7,  8,  9, 10, 11, 12, 13, 14, 15, 16, 17,\n",
      "       18, 19, 20, 21, 22, 23, 24, 25, 26, 27, 28, 29, 30, 31, 32, 33, 34,\n",
      "       35, 36, 37, 38, 39, 40, 41, 42, 43, 44, 45, 46, 47, 48, 49, 50, 51,\n",
      "       52, 53, 54, 55, 56, 57, 58, 59, 60, 61, 62, 63, 64, 65, 66, 67, 68,\n",
      "       69, 70, 71, 72, 73, 74, 75, 76, 77, 78, 79, 80, 81, 82, 83, 84, 85,\n",
      "       86, 87, 88, 89, 90, 91, 92, 93, 94, 95, 96, 97, 98, 99],\n",
      "      dtype=int64),)\n"
     ]
    }
   ],
   "source": [
    "mask1 = numpy.where(numpy.logical_and(xi_4>= 0.05, xi_4 <= 4.95))\n",
    "print(mask1)"
   ]
  },
  {
   "cell_type": "code",
   "execution_count": 283,
   "metadata": {},
   "outputs": [
    {
     "data": {
      "text/plain": [
       "(array([ 0,  1,  2,  3,  4,  5,  6,  7,  8,  9, 10, 11, 12, 13, 14, 15, 16,\n",
       "        17, 18, 19, 20, 21, 22, 23, 24, 25, 26, 27, 28, 29, 30, 31, 32, 33,\n",
       "        34, 35, 36, 37, 38, 39, 40, 41, 42, 43, 44, 45, 46, 47, 48, 49, 50,\n",
       "        51, 52, 53, 54, 55, 56, 57, 58, 59, 60, 61, 62, 63, 64, 65, 66, 67,\n",
       "        68, 69, 70, 71, 72, 73, 74, 75, 76, 77, 78, 79, 80, 81, 82, 83, 84,\n",
       "        85, 86, 87, 88, 89, 90, 91, 92, 93, 94, 95, 96, 97, 98, 99],\n",
       "       dtype=int64),)"
      ]
     },
     "execution_count": 283,
     "metadata": {},
     "output_type": "execute_result"
    }
   ],
   "source": [
    "mask2 = numpy.where(numpy.logical_and(xi_4>= 0.0, xi_4 <= 4.95))\n",
    "mask2"
   ]
  },
  {
   "cell_type": "code",
   "execution_count": 284,
   "metadata": {},
   "outputs": [
    {
     "data": {
      "text/plain": [
       "array([0.05, 0.1 , 0.15, 0.2 , 0.25, 0.3 , 0.35, 0.4 , 0.45, 0.5 , 0.55,\n",
       "       0.6 , 0.65, 0.7 , 0.75, 0.8 , 0.85, 0.9 , 0.95, 1.  , 1.05, 1.1 ,\n",
       "       1.15, 1.2 , 1.25, 1.3 , 1.35, 1.4 , 1.45, 1.5 , 1.55, 1.6 , 1.65,\n",
       "       1.7 , 1.75, 1.8 , 1.85, 1.9 , 1.95, 2.  , 2.05, 2.1 , 2.15, 2.2 ,\n",
       "       2.25, 2.3 , 2.35, 2.4 , 2.45, 2.5 , 2.55, 2.6 , 2.65, 2.7 , 2.75,\n",
       "       2.8 , 2.85, 2.9 , 2.95, 3.  , 3.05, 3.1 , 3.15, 3.2 , 3.25, 3.3 ,\n",
       "       3.35, 3.4 , 3.45, 3.5 , 3.55, 3.6 , 3.65, 3.7 , 3.75, 3.8 , 3.85,\n",
       "       3.9 , 3.95, 4.  , 4.05, 4.1 , 4.15, 4.2 , 4.25, 4.3 , 4.35, 4.4 ,\n",
       "       4.45, 4.5 , 4.55, 4.6 , 4.65, 4.7 , 4.75, 4.8 , 4.85, 4.9 , 4.95])"
      ]
     },
     "execution_count": 284,
     "metadata": {},
     "output_type": "execute_result"
    }
   ],
   "source": [
    "xi_4[mask1]"
   ]
  },
  {
   "cell_type": "code",
   "execution_count": 285,
   "metadata": {},
   "outputs": [
    {
     "name": "stdout",
     "output_type": "stream",
     "text": [
      "[ 1.          0.32322026  0.57278405  0.40414506  0.31732477  0.1354822\n",
      "  0.46884117  0.15638082  0.8376595   0.94549414  0.07516228  0.68758756\n",
      "  0.29334238  0.35206684  0.88839496 -0.39344591 -0.36930605 -0.4696724\n",
      "  0.74892977  0.66723513  0.80501822  0.96792751  0.69873785  0.19221904\n",
      "  0.67079376 -0.32258836  0.45988153 -0.28497007  0.91700338  0.28277248\n",
      "  0.12199291 -0.10316658  0.66135053  0.1842255   0.35265092 -0.4718153\n",
      "  0.42645325  0.41814358  0.425401    0.91562212  0.52273045  0.03926185\n",
      "  0.15554793  0.54644679 -0.40966179  0.50015007  0.5059568  -0.18442616\n",
      " -0.30661055 -0.02685747  0.04556616  0.35529516  0.15790227  0.98256076\n",
      " -0.34693278 -0.18668487 -0.25803572  0.47966249 -0.1200626   0.19946616\n",
      " -0.13336161 -0.26154562 -0.33443729  0.48449438 -0.29272557 -0.20512646\n",
      "  0.05308776  0.73148984 -0.35434809  0.75691736 -0.35585239  0.9646892\n",
      "  0.2029768   0.96514163  0.40726828  0.60889537 -0.44121831 -0.07578956\n",
      " -0.31970516 -0.0557897  -0.32190842 -0.02302523  0.12139449 -0.40377876\n",
      "  0.53870818  0.34990218 -0.10191576  0.28487208 -0.35908923  0.36391974\n",
      "  0.8939443  -0.02214657  0.50111557 -0.30230321  0.57449081 -0.06589086\n",
      " -0.22521296  0.3797694  -0.46983868  0.74341004]\n"
     ]
    }
   ],
   "source": [
    "u0[mask1] = c_i\n",
    "print(u0)"
   ]
  },
  {
   "cell_type": "code",
   "execution_count": 286,
   "metadata": {},
   "outputs": [
    {
     "data": {
      "image/png": "[encoded data removed]",
      "text/plain": [
       "<Figure size 864x648 with 1 Axes>"
      ]
     },
     "metadata": {},
     "output_type": "display_data"
    }
   ],
   "source": [
    "#Graphique des conditions initiales\n",
    "pyplot.figure(figsize=(12.0, 9.0))\n",
    "pyplot.title('Initial conditions')\n",
    "pyplot.xlabel('xim')\n",
    "pyplot.ylabel('ci')\n",
    "pyplot.grid()\n",
    "pyplot.plot(xi_4[mask2], u0, color='C0', linestyle='--', linewidth=2)\n",
    "pyplot.xlim(0.0, L)\n",
    "pyplot.ylim(-1.25, 1.25);"
   ]
  },
  {
   "cell_type": "code",
   "execution_count": null,
   "metadata": {},
   "outputs": [],
   "source": []
  },
  {
   "cell_type": "code",
   "execution_count": null,
   "metadata": {},
   "outputs": [],
   "source": []
  },
  {
   "cell_type": "code",
   "execution_count": null,
   "metadata": {},
   "outputs": [],
   "source": []
  },
  {
   "cell_type": "code",
   "execution_count": null,
   "metadata": {},
   "outputs": [],
   "source": []
  }
 ],
 "metadata": {
  "kernelspec": {
   "display_name": "Python 3",
   "language": "python",
   "name": "python3"
  },
  "language_info": {
   "codemirror_mode": {
    "name": "ipython",
    "version": 3
   },
   "file_extension": ".py",
   "mimetype": "text/x-python",
   "name": "python",
   "nbconvert_exporter": "python",
   "pygments_lexer": "ipython3",
   "version": "3.6.7"
  }
 },
 "nbformat": 4,
 "nbformat_minor": 2
}
